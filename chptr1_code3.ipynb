{
 "cells": [
  {
   "cell_type": "code",
   "execution_count": 4,
   "metadata": {},
   "outputs": [
    {
     "ename": "NameError",
     "evalue": "name 'pd' is not defined",
     "output_type": "error",
     "traceback": [
      "\u001b[1;31m---------------------------------------------------------------------------\u001b[0m",
      "\u001b[1;31mNameError\u001b[0m                                 Traceback (most recent call last)",
      "\u001b[1;32m<ipython-input-4-96e8358a2068>\u001b[0m in \u001b[0;36m<module>\u001b[1;34m\u001b[0m\n\u001b[1;32m----> 1\u001b[1;33m \u001b[0md\u001b[0m \u001b[1;33m=\u001b[0m\u001b[0mpd\u001b[0m\u001b[1;33m.\u001b[0m\u001b[0mget_dummies\u001b[0m \u001b[1;33m(\u001b[0m\u001b[0md\u001b[0m\u001b[1;33m,\u001b[0m\u001b[0mcolumns\u001b[0m \u001b[1;33m=\u001b[0m\u001b[1;33m[\u001b[0m\u001b[1;34m'sex'\u001b[0m\u001b[1;33m,\u001b[0m\u001b[1;34m'school'\u001b[0m\u001b[1;33m,\u001b[0m\u001b[1;34m'address'\u001b[0m\u001b[1;33m,\u001b[0m\u001b[1;34m'famsize'\u001b[0m\u001b[1;33m,\u001b[0m\u001b[1;34m'Pstatus'\u001b[0m\u001b[1;33m,\u001b[0m\u001b[1;34m'Mjob'\u001b[0m\u001b[1;33m,\u001b[0m\u001b[1;34m'Fjob'\u001b[0m\u001b[1;33m,\u001b[0m\u001b[1;34m'reason'\u001b[0m\u001b[1;33m,\u001b[0m\u001b[1;34m'guardian'\u001b[0m\u001b[1;33m,\u001b[0m\u001b[1;34m'schoolsup'\u001b[0m\u001b[1;33m,\u001b[0m\u001b[1;34m'famsup'\u001b[0m\u001b[1;33m,\u001b[0m\u001b[1;34m'paid'\u001b[0m\u001b[1;33m,\u001b[0m\u001b[1;34m'activities'\u001b[0m\u001b[1;33m,\u001b[0m\u001b[1;34m'nursery'\u001b[0m\u001b[1;33m,\u001b[0m\u001b[1;34m'higher'\u001b[0m\u001b[1;33m,\u001b[0m\u001b[1;34m'internet'\u001b[0m\u001b[1;33m,\u001b[0m\u001b[1;34m'romantic'\u001b[0m\u001b[1;33m]\u001b[0m\u001b[1;33m)\u001b[0m\u001b[1;33m\u001b[0m\u001b[1;33m\u001b[0m\u001b[0m\n\u001b[0m\u001b[0;32m      2\u001b[0m \u001b[0md\u001b[0m\u001b[1;33m.\u001b[0m\u001b[0mhead\u001b[0m\u001b[1;33m(\u001b[0m\u001b[1;33m)\u001b[0m\u001b[1;33m\u001b[0m\u001b[1;33m\u001b[0m\u001b[0m\n",
      "\u001b[1;31mNameError\u001b[0m: name 'pd' is not defined"
     ]
    }
   ],
   "source": [
    "d =pd.get_dummies (d,columns =['sex','school','address','famsize','Pstatus','Mjob','Fjob','reason','guardian','schoolsup','famsup','paid','activities','nursery','higher','internet','romantic']) \n",
    "d.head() "
   ]
  },
  {
   "cell_type": "code",
   "execution_count": null,
   "metadata": {},
   "outputs": [],
   "source": [
    "from sklearn.model_selection import cross_val_score \n",
    "\n",
    "scores = cross_val_score(t,d_att,d_pass,cv=5) \n",
    "\n",
    "print(\"Accuracy: %0.2f (+/- %0.2f)\" % (scores.mean(), scores.std() * 2)) "
   ]
  }
 ],
 "metadata": {
  "kernelspec": {
   "display_name": "Python 3",
   "language": "python",
   "name": "python3"
  },
  "language_info": {
   "codemirror_mode": {
    "name": "ipython",
    "version": 3
   },
   "file_extension": ".py",
   "mimetype": "text/x-python",
   "name": "python",
   "nbconvert_exporter": "python",
   "pygments_lexer": "ipython3",
   "version": "3.7.4"
  }
 },
 "nbformat": 4,
 "nbformat_minor": 2
}
